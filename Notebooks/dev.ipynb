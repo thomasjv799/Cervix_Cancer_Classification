{
 "cells": [
  {
   "cell_type": "code",
   "execution_count": 10,
   "metadata": {},
   "outputs": [],
   "source": [
    "import tensorflow\n",
    "import torch\n",
    "import numpy as np\n",
    "import cv2"
   ]
  },
  {
   "cell_type": "code",
   "execution_count": 116,
   "metadata": {},
   "outputs": [],
   "source": [
    "model = tensorflow.keras.models.load_model(\"D:/CVX/Cervix_Cancer_Classification/densenet_cvx.h5\")"
   ]
  },
  {
   "cell_type": "code",
   "execution_count": 11,
   "metadata": {},
   "outputs": [],
   "source": [
    "mapping_dict = {0:'Type 1',1:'Type 2', 2: 'Type 3'}"
   ]
  },
  {
   "cell_type": "code",
   "execution_count": 134,
   "metadata": {},
   "outputs": [],
   "source": [
    "img = cv2.imread(\"D:/Project_CVX_Classification/dataset/test/Type_1/2876.jpg\")"
   ]
  },
  {
   "cell_type": "code",
   "execution_count": 135,
   "metadata": {},
   "outputs": [],
   "source": [
    "img = (cv2.resize(img, (224,224)))/255"
   ]
  },
  {
   "cell_type": "code",
   "execution_count": 136,
   "metadata": {},
   "outputs": [],
   "source": [
    "img = np.expand_dims(img,axis= 0)"
   ]
  },
  {
   "cell_type": "code",
   "execution_count": 137,
   "metadata": {},
   "outputs": [
    {
     "name": "stdout",
     "output_type": "stream",
     "text": [
      "1/1 [==============================] - 0s 150ms/step\n"
     ]
    }
   ],
   "source": [
    "probs = model.predict(img)[0]"
   ]
  },
  {
   "cell_type": "code",
   "execution_count": 139,
   "metadata": {},
   "outputs": [
    {
     "data": {
      "text/plain": [
       "0"
      ]
     },
     "execution_count": 139,
     "metadata": {},
     "output_type": "execute_result"
    }
   ],
   "source": [
    "np.argmax(probs)"
   ]
  },
  {
   "cell_type": "code",
   "execution_count": 143,
   "metadata": {},
   "outputs": [
    {
     "data": {
      "text/plain": [
       "0.00024564218"
      ]
     },
     "execution_count": 143,
     "metadata": {},
     "output_type": "execute_result"
    }
   ],
   "source": [
    "probs[2]"
   ]
  },
  {
   "cell_type": "code",
   "execution_count": 140,
   "metadata": {},
   "outputs": [
    {
     "data": {
      "text/plain": [
       "0.94693935"
      ]
     },
     "execution_count": 140,
     "metadata": {},
     "output_type": "execute_result"
    }
   ],
   "source": [
    "probs[0]"
   ]
  },
  {
   "cell_type": "code",
   "execution_count": 97,
   "metadata": {},
   "outputs": [],
   "source": [
    "import numpy as np\n",
    "import pandas as pd\n",
    "import glob\n",
    "import cv2\n",
    "import tensorflow as tf\n",
    "from tensorflow.keras import layers, Model\n",
    "from tensorflow.keras.losses import mean_squared_error\n",
    "from tensorflow.keras.utils import to_categorical\n",
    "# from sklearn.model_selection import train_test_split\n",
    "# from sklearn.metrics import confusion_matrix\n",
    "# from sklearn.metrics import classification_report\n",
    "from tqdm import tqdm\n",
    "# from imgaug import augmenters\n",
    "import matplotlib.gridspec as gridspec\n",
    "from PIL import Image\n",
    "import os\n",
    "import json\n",
    "import glob\n",
    "import time\n",
    "import datetime\n",
    "from collections import Counter\n",
    "from concurrent import futures\n",
    "import threading\n",
    "import matplotlib.pyplot as plt\n",
    "%matplotlib inline\n",
    "# from sklearn.preprocessing import LabelEncoder\n",
    "from prettytable import PrettyTable\n",
    "import zipfile\n",
    "import seaborn as sns\n",
    "# from numba import cuda"
   ]
  },
  {
   "cell_type": "code",
   "execution_count": 114,
   "metadata": {},
   "outputs": [],
   "source": [
    "from sklearn.preprocessing import LabelEncoder"
   ]
  },
  {
   "cell_type": "code",
   "execution_count": 98,
   "metadata": {},
   "outputs": [
    {
     "data": {
      "text/plain": [
       "(200, 200, 200)"
      ]
     },
     "execution_count": 98,
     "metadata": {},
     "output_type": "execute_result"
    }
   ],
   "source": [
    "test_base_dir = os.path.join('D:/Project_CVX_Classification/dataset/test')\n",
    "type1_test_dir = os.path.join(test_base_dir,'Type_1')\n",
    "type2_test_dir = os.path.join(test_base_dir,'Type_2')\n",
    "type3_test_dir = os.path.join(test_base_dir,'Type_3')\n",
    "\n",
    "type1_test_files = glob.glob(type1_test_dir+'/*.jpg')\n",
    "type2_test_files = glob.glob(type2_test_dir+'/*.jpg')\n",
    "type3_test_files = glob.glob(type3_test_dir+'/*.jpg')\n",
    "\n",
    "len(type1_test_files),len(type2_test_files),len(type3_test_files)"
   ]
  },
  {
   "cell_type": "code",
   "execution_count": 127,
   "metadata": {},
   "outputs": [],
   "source": [
    "#Building a dataframe mapping images and Cancer type\n",
    "test_files_df = pd.DataFrame({\n",
    "    'filename': type1_test_files + type2_test_files + type3_test_files,\n",
    "    'label': ['Type_1'] * len(type1_test_files) + ['Type_2'] * len(type2_test_files) + ['Type_3'] * len(type3_test_files)\n",
    "}).sample(frac=1, random_state=42).reset_index(drop=True)\n"
   ]
  },
  {
   "cell_type": "code",
   "execution_count": 128,
   "metadata": {},
   "outputs": [
    {
     "data": {
      "text/html": [
       "<div>\n",
       "<style scoped>\n",
       "    .dataframe tbody tr th:only-of-type {\n",
       "        vertical-align: middle;\n",
       "    }\n",
       "\n",
       "    .dataframe tbody tr th {\n",
       "        vertical-align: top;\n",
       "    }\n",
       "\n",
       "    .dataframe thead th {\n",
       "        text-align: right;\n",
       "    }\n",
       "</style>\n",
       "<table border=\"1\" class=\"dataframe\">\n",
       "  <thead>\n",
       "    <tr style=\"text-align: right;\">\n",
       "      <th></th>\n",
       "      <th>filename</th>\n",
       "      <th>label</th>\n",
       "    </tr>\n",
       "  </thead>\n",
       "  <tbody>\n",
       "    <tr>\n",
       "      <th>0</th>\n",
       "      <td>D:/Project_CVX_Classification/dataset/test\\Typ...</td>\n",
       "      <td>Type_1</td>\n",
       "    </tr>\n",
       "    <tr>\n",
       "      <th>1</th>\n",
       "      <td>D:/Project_CVX_Classification/dataset/test\\Typ...</td>\n",
       "      <td>Type_3</td>\n",
       "    </tr>\n",
       "    <tr>\n",
       "      <th>2</th>\n",
       "      <td>D:/Project_CVX_Classification/dataset/test\\Typ...</td>\n",
       "      <td>Type_3</td>\n",
       "    </tr>\n",
       "    <tr>\n",
       "      <th>3</th>\n",
       "      <td>D:/Project_CVX_Classification/dataset/test\\Typ...</td>\n",
       "      <td>Type_1</td>\n",
       "    </tr>\n",
       "    <tr>\n",
       "      <th>4</th>\n",
       "      <td>D:/Project_CVX_Classification/dataset/test\\Typ...</td>\n",
       "      <td>Type_1</td>\n",
       "    </tr>\n",
       "    <tr>\n",
       "      <th>...</th>\n",
       "      <td>...</td>\n",
       "      <td>...</td>\n",
       "    </tr>\n",
       "    <tr>\n",
       "      <th>595</th>\n",
       "      <td>D:/Project_CVX_Classification/dataset/test\\Typ...</td>\n",
       "      <td>Type_1</td>\n",
       "    </tr>\n",
       "    <tr>\n",
       "      <th>596</th>\n",
       "      <td>D:/Project_CVX_Classification/dataset/test\\Typ...</td>\n",
       "      <td>Type_1</td>\n",
       "    </tr>\n",
       "    <tr>\n",
       "      <th>597</th>\n",
       "      <td>D:/Project_CVX_Classification/dataset/test\\Typ...</td>\n",
       "      <td>Type_2</td>\n",
       "    </tr>\n",
       "    <tr>\n",
       "      <th>598</th>\n",
       "      <td>D:/Project_CVX_Classification/dataset/test\\Typ...</td>\n",
       "      <td>Type_3</td>\n",
       "    </tr>\n",
       "    <tr>\n",
       "      <th>599</th>\n",
       "      <td>D:/Project_CVX_Classification/dataset/test\\Typ...</td>\n",
       "      <td>Type_1</td>\n",
       "    </tr>\n",
       "  </tbody>\n",
       "</table>\n",
       "<p>600 rows × 2 columns</p>\n",
       "</div>"
      ],
      "text/plain": [
       "                                              filename   label\n",
       "0    D:/Project_CVX_Classification/dataset/test\\Typ...  Type_1\n",
       "1    D:/Project_CVX_Classification/dataset/test\\Typ...  Type_3\n",
       "2    D:/Project_CVX_Classification/dataset/test\\Typ...  Type_3\n",
       "3    D:/Project_CVX_Classification/dataset/test\\Typ...  Type_1\n",
       "4    D:/Project_CVX_Classification/dataset/test\\Typ...  Type_1\n",
       "..                                                 ...     ...\n",
       "595  D:/Project_CVX_Classification/dataset/test\\Typ...  Type_1\n",
       "596  D:/Project_CVX_Classification/dataset/test\\Typ...  Type_1\n",
       "597  D:/Project_CVX_Classification/dataset/test\\Typ...  Type_2\n",
       "598  D:/Project_CVX_Classification/dataset/test\\Typ...  Type_3\n",
       "599  D:/Project_CVX_Classification/dataset/test\\Typ...  Type_1\n",
       "\n",
       "[600 rows x 2 columns]"
      ]
     },
     "execution_count": 128,
     "metadata": {},
     "output_type": "execute_result"
    }
   ],
   "source": [
    "test_files_df"
   ]
  },
  {
   "cell_type": "code",
   "execution_count": 129,
   "metadata": {},
   "outputs": [
    {
     "name": "stderr",
     "output_type": "stream",
     "text": [
      "100%|██████████| 600/600 [00:01<00:00, 309.38it/s]\n"
     ]
    }
   ],
   "source": [
    "test_array = []\n",
    "test_labels = []\n",
    "IMG_DIMS = (224, 224)\n",
    "\n",
    "for i in tqdm(range(len(test_files_df))):\n",
    "    img_path = test_files_df['filename'][i]\n",
    "    img = cv2.imread(img_path)\n",
    "    img = cv2.resize(img, dsize=IMG_DIMS,\n",
    "                     interpolation=cv2.INTER_CUBIC)\n",
    "    img = np.array(img, dtype=np.float32)\n",
    "    test_array.append(img)\n",
    "    test_labels.append(test_files_df['label'][i])\n"
   ]
  },
  {
   "cell_type": "code",
   "execution_count": 133,
   "metadata": {},
   "outputs": [
    {
     "data": {
      "text/plain": [
       "'D:/Project_CVX_Classification/dataset/test\\\\Type_1\\\\35 (2).jpg'"
      ]
     },
     "execution_count": 133,
     "metadata": {},
     "output_type": "execute_result"
    }
   ],
   "source": [
    "test_files_df['filename'][0]"
   ]
  },
  {
   "cell_type": "code",
   "execution_count": 130,
   "metadata": {},
   "outputs": [
    {
     "name": "stdout",
     "output_type": "stream",
     "text": [
      "['Type_1' 'Type_3' 'Type_3' 'Type_1' 'Type_1' 'Type_2'] [0 2 2 0 0 1]\n",
      "['Type_1' 'Type_3' 'Type_3' 'Type_1' 'Type_1' 'Type_2'] [[1. 0. 0.]\n",
      " [0. 0. 1.]\n",
      " [0. 0. 1.]\n",
      " [1. 0. 0.]\n",
      " [1. 0. 0.]\n",
      " [0. 1. 0.]]\n"
     ]
    }
   ],
   "source": [
    "#scaling the test set and one-hot encoding the test labels\n",
    "test_labels= np.array(test_labels)\n",
    "test_imgs_scaled = np.array(test_array) / 255.\n",
    "test_imgs_scaled.shape, test_labels.shape\n",
    "\n",
    "le = LabelEncoder()\n",
    "le.fit(test_labels)\n",
    "test_labels_enc = le.transform(test_labels)\n",
    "\n",
    "test_labels_1hotenc = to_categorical(test_labels_enc, num_classes=3)\n",
    "\n",
    "\n",
    "print(test_labels[:6], test_labels_enc[:6])\n",
    "print(test_labels[:6], test_labels_1hotenc[:6])"
   ]
  },
  {
   "cell_type": "code",
   "execution_count": 117,
   "metadata": {},
   "outputs": [
    {
     "name": "stdout",
     "output_type": "stream",
     "text": [
      "19/19 [==============================] - 58s 3s/step\n"
     ]
    }
   ],
   "source": [
    "# Predictions and Confusion Matrix\n",
    "predictions_densenet = model.predict(test_imgs_scaled)\n",
    "predicted_labels_densenet = np.argmax(predictions_densenet, axis=1)\n",
    "true_labels_densenet = np.argmax(test_labels_1hotenc, axis=1)\n"
   ]
  },
  {
   "cell_type": "code",
   "execution_count": 121,
   "metadata": {},
   "outputs": [],
   "source": [
    "from sklearn.metrics import confusion_matrix"
   ]
  },
  {
   "cell_type": "code",
   "execution_count": 122,
   "metadata": {},
   "outputs": [],
   "source": [
    "conf_mat_densenet = confusion_matrix(true_labels_densenet, predicted_labels_densenet)"
   ]
  },
  {
   "cell_type": "code",
   "execution_count": 123,
   "metadata": {},
   "outputs": [
    {
     "data": {
      "text/plain": [
       "array([[115,  76,   9],\n",
       "       [ 10, 169,  21],\n",
       "       [  3,  91, 106]], dtype=int64)"
      ]
     },
     "execution_count": 123,
     "metadata": {},
     "output_type": "execute_result"
    }
   ],
   "source": [
    "conf_mat_densenet"
   ]
  },
  {
   "cell_type": "code",
   "execution_count": null,
   "metadata": {},
   "outputs": [],
   "source": []
  }
 ],
 "metadata": {
  "kernelspec": {
   "display_name": "cvx_3",
   "language": "python",
   "name": "python3"
  },
  "language_info": {
   "codemirror_mode": {
    "name": "ipython",
    "version": 3
   },
   "file_extension": ".py",
   "mimetype": "text/x-python",
   "name": "python",
   "nbconvert_exporter": "python",
   "pygments_lexer": "ipython3",
   "version": "3.9.19"
  }
 },
 "nbformat": 4,
 "nbformat_minor": 2
}
